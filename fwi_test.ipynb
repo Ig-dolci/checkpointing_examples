{
 "cells": [
  {
   "cell_type": "markdown",
   "id": "703b2e8e-97ab-47d0-a10a-f1121a5b3b4b",
   "metadata": {},
   "source": [
    "# Testing Revolve checkpointing: simplified Full Waveform Inversion (FWI)\n",
    "\n",
    "In essence, FWI consists of a local optimisation, where the goal is to minimise the misfit between true/observed data and predicted/computed data. The misfit function can be measured by the $L^2$ norm, which may be written as, in a continuous space,\n",
    "$$\n",
    "    I (\\mathbf{m})\\equiv \\frac{1}{2} \\int_{\\tau} \\int_{\\Omega_0} \\mathbf{d}^2(\\mathbf{m})\\boldsymbol{\\delta}(\\mathbf{x}- \\check{\\mathbf{x}})\\, \\text{d} \\mathcal{V} \\text{d} t,\n",
    "$$\n",
    "where $\\mathbf{d}$ gives the difference between the predicted and observed data, both recorded at a set of receivers located at the point positions $\\check{\\mathbf{x}} \\in \\Omega_{0}$, in a time interval $\\tau\\equiv[t_0, t_f]\\subset \\mathbb{R}$, with $t_0$ the initial time and $t_f$ the final time. The spatial domain of interest (usually two- or three-dimensional) is set as $\\Omega_{0}$. The term $\\boldsymbol{\\delta}(\\mathbf{x}- \\check{\\mathbf{x}})$ is the delta Dirac function to model the receiver point positions. The predicted  seismograms' data, $\\mathbf{u}$, is governed by a wave equation. "
   ]
  },
  {
   "cell_type": "markdown",
   "id": "b575afbd-2373-4a9a-b976-a46746a9420b",
   "metadata": {},
   "source": [
    "## Wave equation\n",
    "The acoustic wave equation reads:\n",
    "$$\\frac{1}{c^2} \\frac{\\partial^2 p}{\\partial t^2} -\\nabla^{2}p = f,$$\n",
    "where $p = p(c, \\mathbf{x}, t)$ is the wave pressure, $\\nabla^{2}(\\cdot)$ represents the Laplacian operator with respect to $\\mathbf{x} \\in \\Omega_0$, $v_p = v_p(\\mathbf{x}):\\Omega_{0}\\rightarrow \\mathbb{R}$ is the pressure wave ($P$-wave) velocity, which is assumed to be piecewise-constant and positive. The external force term $f = f(\\mathbf{x},t):\\Omega_{0}\\rightarrow \\mathbb{R}$, models the source of waves and is usually described by a Ricker Wavelet."
   ]
  },
  {
   "cell_type": "markdown",
   "id": "b56bcb3e-a07b-4cdd-9b6d-cc9341766ee1",
   "metadata": {},
   "source": [
    "## Implementation\n",
    "\n",
    "We begin by importing `firedrake`, `firedrake.adjoint` to compute the adjoint-based gradient automatically, and the Revolve algorithm from checkpoint_schedules."
   ]
  },
  {
   "cell_type": "code",
   "execution_count": 1,
   "id": "850be46c-7ace-4c81-ad03-239e2813da69",
   "metadata": {},
   "outputs": [
    {
     "name": "stderr",
     "output_type": "stream",
     "text": [
      "firedrake:WARNING OMP_NUM_THREADS is not set or is set to a value greater than 1, we suggest setting OMP_NUM_THREADS=1 to improve performance\n"
     ]
    }
   ],
   "source": [
    "from firedrake import *\n",
    "from firedrake.adjoint import *\n",
    "from checkpoint_schedules import Revolve"
   ]
  },
  {
   "cell_type": "markdown",
   "id": "23d40917-7c0e-454a-be7f-05ff8fb6428f",
   "metadata": {},
   "source": [
    "We can now proceed to set up the problem. We choose a resolution and set up a unit square mesh and degree 3 KMV elemts."
   ]
  },
  {
   "cell_type": "code",
   "execution_count": 2,
   "id": "8508b638-0d14-43a0-a3d7-5a533b021ecc",
   "metadata": {},
   "outputs": [],
   "source": [
    "mesh = UnitSquareMesh(100, 100)\n",
    "element = FiniteElement(\"KMV\", mesh.ufl_cell(), degree=1, variant=\"KMV\")\n",
    "V = FunctionSpace(mesh, element)"
   ]
  },
  {
   "cell_type": "markdown",
   "id": "b38f74e1-b53a-4a24-8d30-8658ecaf2230",
   "metadata": {},
   "source": [
    "We consider only one receiver located ate $\\check{\\mathbf{x}} = [0.15,0.2]$ and one source located at $\\mathbf{x}_s = [0.1,0.2]$. "
   ]
  },
  {
   "cell_type": "code",
   "execution_count": 3,
   "id": "ffae430b-4003-46ad-8eee-c314ce8775e9",
   "metadata": {},
   "outputs": [],
   "source": [
    "import numpy as np\n",
    "rec_location = np.linspace((0.15, 0.2), (0.15, 0.8), 20)\n",
    "source_location = np.linspace((0.1, 0.2), (0.1, 0.8), 1)"
   ]
  },
  {
   "cell_type": "markdown",
   "id": "60c026ea-356d-49fa-a82f-fd4783eff631",
   "metadata": {},
   "source": [
    "Next, we choose the end step and the time-step adopted in the texts."
   ]
  },
  {
   "cell_type": "code",
   "execution_count": 4,
   "id": "e1b28a8d-1cd8-413d-9e41-8a31e32e42eb",
   "metadata": {},
   "outputs": [],
   "source": [
    "tf = 0.5\n",
    "dt = 0.001"
   ]
  },
  {
   "cell_type": "markdown",
   "id": "21591711-345f-4a76-b0a4-cb6822b5128a",
   "metadata": {},
   "source": [
    "We compute the Ricker wavelet for every time-step. `full_ricker_wavelet` returns the forcing term $f(\\mathbf{x}, t)$ of the acoustic wave equation."
   ]
  },
  {
   "cell_type": "code",
   "execution_count": 5,
   "id": "78ab9940-bf86-44a4-b96e-7b3c8d0239b5",
   "metadata": {},
   "outputs": [],
   "source": [
    "def full_ricker_wavelet(dt, tf, freq, amp=1.0):\n",
    "    \"\"\"Compute the Ricker wavelet optionally applying low-pass filtering\n",
    "    using cutoff frequency in Hertz.\n",
    "    \"\"\"\n",
    "    nt = int(tf / dt)  # number of timesteps\n",
    "    time = 0.0\n",
    "    amp = 1.0\n",
    "    delay = 1.5\n",
    "    full_wavelet = np.zeros((nt,))\n",
    "    for t in range(nt):\n",
    "        t0 = t - delay * np.sqrt(6.0) / (np.pi * freq)\n",
    "        rw = (amp * (1.0 - (1.0 / 2.0) * (2.0 * np.pi * freq) * (2.0 * np.pi * freq) * t0 * t0)\n",
    "                * np.exp(\n",
    "                    (-1.0 / 4.0) * (2.0 * np.pi * freq) * (2.0 * np.pi * freq) * t0 * t0\n",
    "                )\n",
    "            )\n",
    "        full_wavelet[t] = rw\n",
    "        time += dt\n",
    "    return full_wavelet"
   ]
  },
  {
   "cell_type": "markdown",
   "id": "f1ccaac4-993a-4a31-acb4-d25dc086eb76",
   "metadata": {},
   "source": [
    "The acoustic velocity model is created with the function `make_vp_circle`."
   ]
  },
  {
   "cell_type": "code",
   "execution_count": 6,
   "id": "b32277b8-f1b0-4f92-9a37-a9836eb51e83",
   "metadata": {},
   "outputs": [],
   "source": [
    "def make_vp_circle(vp_guess=False):\n",
    "    \"\"\"Acoustic velocity model\"\"\"\n",
    "    x, z = SpatialCoordinate(mesh)\n",
    "    if vp_guess:\n",
    "        vp = Function(V).interpolate(1.5 + 0.0 * x)\n",
    "    else:\n",
    "        vp = Function(V).interpolate(\n",
    "            2.5\n",
    "            + 1 * tanh(100 * (0.125 - sqrt((x - 0.5) ** 2 + (z - 0.5) ** 2)))\n",
    "        )\n",
    "    return vp"
   ]
  },
  {
   "cell_type": "markdown",
   "id": "85d35a03-94a1-4b70-bead-70b990aa8a6e",
   "metadata": {},
   "source": [
    "The function `forcing` models the acoustic wave equation forcing $f(\\mathbf{x}, t)$."
   ]
  },
  {
   "cell_type": "code",
   "execution_count": 7,
   "id": "44594e0b-e0b7-4075-9e04-c991d5d53d28",
   "metadata": {},
   "outputs": [],
   "source": [
    "def forcing():\n",
    "    z, x = SpatialCoordinate(mesh)\n",
    "    x_0 = source_location[0]\n",
    "    delta = exp(-2000 * ((z - x_0[0]) ** 2 + (x - x_0[1]) ** 2))\n",
    "    f = Function(V, name=\"g\").interpolate(delta)\n",
    "    return f"
   ]
  },
  {
   "cell_type": "markdown",
   "id": "0b34322b-de7b-425c-85a5-1608f43bf5d1",
   "metadata": {},
   "source": [
    "The receivers are located at some points in the space. They get the wave data that arrives at this point. In Firedrake, the receivers are defined by using `VertexOnlyMesh`. The receiver data are obtained by interpolating the wave equation solution function in the receivers.\n",
    "\n",
    "The `create_receiver` creates the receiver mesh and the interpolator...."
   ]
  },
  {
   "cell_type": "code",
   "execution_count": 8,
   "id": "fbbe0aa8-4b4d-4b84-a722-6438d8d7c247",
   "metadata": {},
   "outputs": [],
   "source": [
    "def create_receiver(wave_eq_solution):\n",
    "    mesh_rec = VertexOnlyMesh(mesh, rec_location)\n",
    "    P = FunctionSpace(mesh_rec, \"DG\", 0)\n",
    "    return Interpolator(wave_eq_solution, P), P\n",
    "\n"
   ]
  },
  {
   "cell_type": "markdown",
   "id": "82654906-e499-4729-9808-c1a9e489883b",
   "metadata": {},
   "source": [
    "We then write the forward solver, which is able to compute acoustic wave equation and the cost function."
   ]
  },
  {
   "cell_type": "code",
   "execution_count": 9,
   "id": "343a84d5-42c8-4a7a-a2c8-4af26e013a5b",
   "metadata": {},
   "outputs": [],
   "source": [
    "import finat\n",
    "def forward_solver(c, compute_cost_function=False, true_rec=None, checkpointing=False):\n",
    "    nt = int(tf / dt)  # number of timesteps\n",
    "    u = TrialFunction(V)\n",
    "    v = TestFunction(V)  # Test Function\n",
    "    X = Function(V, name=\"X\")\n",
    "    p_n = Function(V, name=\"p_n\")      # n\n",
    "    p_nm1 = Function(V, name=\"p_nm1\")      # n-1\n",
    "    \n",
    "    # time discretisation\n",
    "    du2_dt2 = ((u - 2.0 * p_n + p_nm1) / dt ** 2)\n",
    "\n",
    "    \n",
    "    qr_x = finat.quadrature.make_quadrature(\n",
    "            V.finat_element.cell, V.ufl_element().degree(), scheme=\"KMV\"\n",
    "        )\n",
    "    \n",
    "    f = forcing()\n",
    "    t_term = du2_dt2 * v * dx(scheme=qr_x)\n",
    "    l_term = c * c * dot(grad(p_n), grad(v)) * dx(scheme=qr_x)\n",
    "    f_term = f * v * dx(scheme=qr_x)\n",
    "    nf = c * ((p_n - p_nm1) / dt) * v * ds(scheme=None)\n",
    "    FF = t_term + l_term - f_term + nf\n",
    "    \n",
    "    lhs_ = lhs(FF)\n",
    "    rhs_ = rhs(FF)\n",
    "    \n",
    "    lin_var = LinearVariationalProblem(lhs_, rhs_, X)\n",
    "    params = {\n",
    "                \"mat_type\": \"matfree\", \"ksp_type\":\n",
    "                \"preonly\", \"pc_type\": \"jacobi\"\n",
    "                }\n",
    "    # peak of the frequency for the ricker wavelet\n",
    "    freq = 7\n",
    "    wavelet = full_ricker_wavelet(dt, tf, freq)\n",
    "    solver = LinearVariationalSolver(lin_var, solver_parameters=params)\n",
    "\n",
    "    rec_interp, P = create_receiver(X)\n",
    "    \n",
    "    usol_recv = []\n",
    "    J = 0.0\n",
    "    t0 = dt\n",
    "    \n",
    "    def time_run(step, compute_cost_function):\n",
    "        solver.solve()\n",
    "        p_nm1.assign(p_n)\n",
    "        p_n.assign(X)\n",
    "        rec = Function(P, name=\"rec\")\n",
    "        rec_interp.interpolate(output=rec)\n",
    "        if compute_cost_function:\n",
    "            true_rec_func = Function(P, name=\"true_rec\")\n",
    "            true_rec_func.dat.data[:] = true_rec[step]\n",
    "            misfit = rec - true_rec_func\n",
    "            J0 = assemble(0.5*inner(misfit, misfit) * dx)\n",
    "            return J0\n",
    "        else:\n",
    "            return rec\n",
    "\n",
    "    if checkpointing:\n",
    "        tape = get_working_tape()\n",
    "        for t in tape.timestepper(np.arange(0, tf, float(dt))):\n",
    "            if compute_cost_function:\n",
    "                J += time_run(int(t/dt), compute_cost_function)\n",
    "            else:\n",
    "                rec = time_run(int(t/dt), compute_cost_function)\n",
    "                usol_recv.append(rec.vector().gather()) \n",
    "    else:\n",
    "        for t in np.arange(0, tf, float(dt)):\n",
    "            if compute_cost_function:\n",
    "                J += time_run(int(t/dt), compute_cost_function)\n",
    "            else:\n",
    "                rec = time_run(int(t/dt), compute_cost_function)\n",
    "                usol_recv.append(rec.vector().gather())\n",
    "    if compute_cost_function:\n",
    "        return J\n",
    "    else:\n",
    "        return usol_recv"
   ]
  },
  {
   "cell_type": "code",
   "execution_count": 10,
   "id": "c31c0064-8895-4335-bb80-d5a4fbaa93bc",
   "metadata": {},
   "outputs": [],
   "source": [
    "c = make_vp_circle()"
   ]
  },
  {
   "cell_type": "code",
   "execution_count": 11,
   "id": "0e164190-232d-4808-9366-256364eef4e0",
   "metadata": {},
   "outputs": [
    {
     "data": {
      "text/plain": [
       "Text(0.5, 1.0, 'Acoustic velocity model')"
      ]
     },
     "execution_count": 11,
     "metadata": {},
     "output_type": "execute_result"
    },
    {
     "data": {
      "image/png": "[encoded data removed]",
      "text/plain": [
       "<Figure size 640x480 with 2 Axes>"
      ]
     },
     "metadata": {},
     "output_type": "display_data"
    }
   ],
   "source": [
    "%matplotlib inline\n",
    "import matplotlib.pyplot as plt\n",
    "# NBVAL_IGNORE_OUTPUT\n",
    "fig, axes = plt.subplots()\n",
    "contours = tricontourf(c, 10, axes=axes)\n",
    "fig.colorbar(contours, ax=axes, fraction=0.046)\n",
    "axes.set_aspect(\"equal\")\n",
    "axes.set_title(\"Acoustic velocity model\")"
   ]
  },
  {
   "cell_type": "code",
   "execution_count": 12,
   "id": "5d08340d-5a7e-4007-a38c-93dda373863a",
   "metadata": {},
   "outputs": [
    {
     "name": "stderr",
     "output_type": "stream",
     "text": [
      "/Users/ddolci/work/firedrake_main/src/ufl/ufl/utils/sorting.py:84: UserWarning: Applying str() to a metadata value of type QuadratureRule, don't know if this is safe.\n",
      "  warnings.warn(f\"Applying str() to a metadata value of type {type(value).__name__}, \"\n",
      "/Users/ddolci/work/firedrake_main/src/ufl/ufl/utils/sorting.py:84: UserWarning: Applying str() to a metadata value of type QuadratureRule, don't know if this is safe.\n",
      "  warnings.warn(f\"Applying str() to a metadata value of type {type(value).__name__}, \"\n"
     ]
    },
    {
     "name": "stdout",
     "output_type": "stream",
     "text": [
      "CPU times: user 967 ms, sys: 84.7 ms, total: 1.05 s\n",
      "Wall time: 1.79 s\n"
     ]
    }
   ],
   "source": [
    "%%time\n",
    "true_rec = forward_solver(c)"
   ]
  },
  {
   "cell_type": "code",
   "execution_count": 13,
   "id": "c2eb15e3-f601-4106-a488-5b7921a3b97c",
   "metadata": {},
   "outputs": [],
   "source": [
    "def test_wave_equation(c_guess, true_rec, checkpointing=False, snaps_in_ram=None):\n",
    "    nt = int(tf / dt)  # number of timesteps\n",
    "    if checkpointing:\n",
    "        tape = get_working_tape()\n",
    "        tape.progress_bar = ProgressBar\n",
    "        tape.enable_checkpointing(Revolve(nt, snaps_in_ram))\n",
    "    J = forward_solver(c_guess, compute_cost_function=True, true_rec=true_rec, checkpointing=checkpointing)\n",
    "    Jhat = ReducedFunctional(J, Control(c_guess))\n",
    "    dJ = Jhat.derivative()\n",
    "    Jhat(c_guess*0.9)\n",
    "    # Test recompute forward model\n",
    "    assert(np.allclose(Jhat(c_guess), J))\n",
    "\n",
    "    dJbar = Jhat.derivative()\n",
    "    # Test recompute adjoint-based gradient\n",
    "    assert np.allclose(dJ.dat.data_ro[:], dJbar.dat.data_ro[:])\n",
    "\n",
    "    # Taylor test\n",
    "    h = Function(V)\n",
    "    h.assign(1, annotate=False)\n",
    "    assert taylor_test(Jhat, c_guess, h) > 1.9\n",
    "    dJ = Jhat.derivative()\n",
    "    return J, dJ"
   ]
  },
  {
   "cell_type": "code",
   "execution_count": 14,
   "id": "5b405825-06f4-4488-96f2-c5e52e412838",
   "metadata": {},
   "outputs": [
    {
     "data": {
      "text/plain": [
       "True"
      ]
     },
     "execution_count": 14,
     "metadata": {},
     "output_type": "execute_result"
    }
   ],
   "source": [
    "continue_annotation()"
   ]
  },
  {
   "cell_type": "code",
   "execution_count": 15,
   "id": "d0ed5d2d-87a1-4cc6-ac67-e5e34c935233",
   "metadata": {},
   "outputs": [],
   "source": [
    "c_guess = make_vp_circle(vp_guess=True)"
   ]
  },
  {
   "cell_type": "code",
   "execution_count": 16,
   "id": "d8d7ad20-1b9d-4adc-a2a7-aa4ce023b4cb",
   "metadata": {},
   "outputs": [
    {
     "data": {
      "text/plain": [
       "Text(0.5, 1.0, 'Acoustic velocity model')"
      ]
     },
     "execution_count": 16,
     "metadata": {},
     "output_type": "execute_result"
    },
    {
     "data": {
      "image/png": "[encoded data removed]",
      "text/plain": [
       "<Figure size 640x480 with 2 Axes>"
      ]
     },
     "metadata": {},
     "output_type": "display_data"
    }
   ],
   "source": [
    "%matplotlib inline\n",
    "import matplotlib.pyplot as plt\n",
    "# NBVAL_IGNORE_OUTPUT\n",
    "fig, axes = plt.subplots()\n",
    "contours = tricontourf(c_guess, 20, axes=axes)\n",
    "fig.colorbar(contours)\n",
    "axes.set_aspect(\"equal\")\n",
    "axes.set_title(\"Acoustic velocity model\")"
   ]
  },
  {
   "cell_type": "code",
   "execution_count": 17,
   "id": "33966b1e-2367-471f-9f91-3d31f8174ff1",
   "metadata": {},
   "outputs": [
    {
     "name": "stderr",
     "output_type": "stream",
     "text": [
      "/Users/ddolci/work/firedrake_main/src/ufl/ufl/utils/sorting.py:84: UserWarning: Applying str() to a metadata value of type QuadratureRule, don't know if this is safe.\n",
      "  warnings.warn(f\"Applying str() to a metadata value of type {type(value).__name__}, \"\n",
      "/Users/ddolci/work/firedrake_main/src/ufl/ufl/utils/sorting.py:84: UserWarning: Applying str() to a metadata value of type QuadratureRule, don't know if this is safe.\n",
      "  warnings.warn(f\"Applying str() to a metadata value of type {type(value).__name__}, \"\n",
      "/Users/ddolci/work/firedrake_main/src/ufl/ufl/utils/sorting.py:84: UserWarning: Applying str() to a metadata value of type QuadratureRule, don't know if this is safe.\n",
      "  warnings.warn(f\"Applying str() to a metadata value of type {type(value).__name__}, \"\n",
      "/Users/ddolci/work/firedrake_main/src/ufl/ufl/utils/sorting.py:84: UserWarning: Applying str() to a metadata value of type QuadratureRule, don't know if this is safe.\n",
      "  warnings.warn(f\"Applying str() to a metadata value of type {type(value).__name__}, \"\n",
      "/Users/ddolci/work/firedrake_main/src/ufl/ufl/utils/sorting.py:84: UserWarning: Applying str() to a metadata value of type QuadratureRule, don't know if this is safe.\n",
      "  warnings.warn(f\"Applying str() to a metadata value of type {type(value).__name__}, \"\n",
      "/Users/ddolci/work/firedrake_main/src/ufl/ufl/utils/sorting.py:84: UserWarning: Applying str() to a metadata value of type QuadratureRule, don't know if this is safe.\n",
      "  warnings.warn(f\"Applying str() to a metadata value of type {type(value).__name__}, \"\n",
      "/Users/ddolci/work/firedrake_main/src/ufl/ufl/utils/sorting.py:84: UserWarning: Applying str() to a metadata value of type QuadratureRule, don't know if this is safe.\n",
      "  warnings.warn(f\"Applying str() to a metadata value of type {type(value).__name__}, \"\n",
      "/Users/ddolci/work/firedrake_main/src/ufl/ufl/utils/sorting.py:84: UserWarning: Applying str() to a metadata value of type QuadratureRule, don't know if this is safe.\n",
      "  warnings.warn(f\"Applying str() to a metadata value of type {type(value).__name__}, \"\n"
     ]
    },
    {
     "name": "stdout",
     "output_type": "stream",
     "text": [
      "Running Taylor test\n",
      "Computed residuals: [9.718101673783274e-09, 2.44934567771232e-09, 6.148208959519617e-10, 1.5401620164545774e-10]\n",
      "Computed convergence rates: [1.9882781297165186, 1.9941582928079271, 1.9970840764430864]\n"
     ]
    },
    {
     "name": "stderr",
     "output_type": "stream",
     "text": [
      "/Users/ddolci/work/firedrake_main/src/ufl/ufl/utils/sorting.py:84: UserWarning: Applying str() to a metadata value of type QuadratureRule, don't know if this is safe.\n",
      "  warnings.warn(f\"Applying str() to a metadata value of type {type(value).__name__}, \"\n"
     ]
    },
    {
     "name": "stdout",
     "output_type": "stream",
     "text": [
      "CPU times: user 33.3 s, sys: 550 ms, total: 33.9 s\n",
      "Wall time: 35.5 s\n"
     ]
    }
   ],
   "source": [
    "%%time\n",
    "tape = get_working_tape()\n",
    "J0, dJ0 = test_wave_equation(c_guess, true_rec, checkpointing=False)\n",
    "tape.clear_tape()"
   ]
  },
  {
   "cell_type": "code",
   "execution_count": null,
   "id": "db087c97-cbf0-4712-bb54-77b716fc1606",
   "metadata": {},
   "outputs": [
    {
     "name": "stderr",
     "output_type": "stream",
     "text": [
      "Taping forward ▣▣▣▣▣▣▣▣▣▣▣▣▣▣▣▣▣▣▣▣▣▣▣▣▣▣▣▣▣▣▣▣▣▣▣▣▣▣▣▣▣▣▣▣▣▣▣▣▣▣ 500/500 [0:00:01]\n",
      "Evaluating Adjoint ▣▣▣▣▣▣▣▣▣▣▣▣▣▣▣▣▣▣▣▣▣▣▣▣▣▣▣▣▣▣▣▣▣▣▣▣▣▣▣▣▣▣▣▣▣▣▣▣▣▣ 1398/1398 [0:00:10]\n",
      "Evaluating Functional ▣▣▣▣▣▣▣▣▣▣▣▣▣▣▣▣▣▣▣▣▣▣▣▣▣▣▣▣▣▣▣▣▣▣▣▣▣▣▣▣▣▣▣▣▣▣▣▣▣▣ 500/500 [0:00:01]\n",
      "Evaluating Functional ▣▣▣▣▣▣▣▣▣▣▣▣▣▣▣▣▣▣▣▣▣▣▣▣▣▣▣▣▣▣▣▣▣▣▣▣▣▣▣▣▣▣▣▣▣▣▣▣▣▣ 500/500 [0:00:01]\n",
      "Evaluating Adjoint ▣▣▣▣▣▣▣▣▣▣▣▣▣▣▣▣▣▣▣▣▣▣▣▣▣▣▣▣▣▣▣▣▣▣▣▣▣▣▣▣▣▣▣▣▣▣▣▣▣▣ 1398/1398 [0:00:10]\n",
      "Evaluating Functional ▣▣▣▣▣▣▣▣▣▣▣▣▣▣▣▣▣▣▣▣▣▣▣▣▣▣▣▣▣▣▣▣▣▣▣▣▣▣▣▣▣▣▣▣▣▣▣▣▣▣ 500/500 [0:00:01]\n",
      "Evaluating Adjoint ▣▣▣▣▣▣▣▣▣▣▣▣▣▣▣▣▣▣▣▣▣▣▣▣▣▣▣▣▣▣▣▣▣▣▣▣▣▣▣▣▣▣▣▣▣▣▣▣▣▣ 1398/1398 [0:00:10]\n",
      "Evaluating Functional ▣▣▣▣▢▢▢▢▢▢▢▢▢▢▢▢▢▢▢▢▢▢▢▢▢▢▢▢▢▢▢▢▢▢▢▢▢▢▢▢▢▢▢▢▢▢▢▢▢▢ 45/500 [0:00:00]"
     ]
    },
    {
     "name": "stdout",
     "output_type": "stream",
     "text": [
      "Running Taylor test\n"
     ]
    },
    {
     "name": "stderr",
     "output_type": "stream",
     "text": [
      "Evaluating Functional ▣▣▣▣▣▣▣▣▣▣▣▣▣▣▣▣▣▣▣▣▣▣▣▣▣▣▣▣▣▣▣▣▣▣▣▣▣▣▣▣▣▣▣▣▣▣▣▣▣▣ 500/500 [0:00:01]\n",
      "Evaluating Functional ▣▣▣▣▣▣▣▣▣▣▣▣▣▣▣▣▣▣▣▣▣▣▣▣▣▣▣▣▣▣▣▣▣▣▣▣▣▣▣▣▣▣▣▣▣▣▣▣▣▣ 500/500 [0:00:01]\n",
      "Evaluating Functional ▣▣▣▣▣▣▣▣▣▣▣▣▣▣▣▣▣▣▣▣▣▣▣▣▣▣▣▣▣▣▣▣▣▣▣▣▣▣▣▣▣▣▣▣▣▣▣▣▣▣ 500/500 [0:00:01]\n",
      "Evaluating Functional ▣▣▣▣▣▣▣▣▣▣▣▣▣▣▣▣▣▣▣▣▣▣▣▣▣▣▣▣▣▣▣▣▣▣▣▣▣▣▣▣▣▣▢▢▢▢▢▢▢▢ 427/500 [0:00:01]"
     ]
    }
   ],
   "source": [
    "J1, dJ1 = test_wave_equation(c_guess, true_rec, checkpointing=True, snaps_in_ram=100)\n",
    "assert np.allclose(J0, J1)"
   ]
  },
  {
   "cell_type": "code",
   "execution_count": null,
   "id": "dd4f8b51-3b72-4858-ade6-fbdfc61256ac",
   "metadata": {},
   "outputs": [],
   "source": [
    "assert np.allclose(dJ0.dat.data_ro[:], dJ1.dat.data_ro[:])\n",
    "assert np.allclose(J0, J1)\n",
    "print(\"Test passed!\")"
   ]
  }
 ],
 "metadata": {
  "kernelspec": {
   "display_name": "Python 3 (ipykernel)",
   "language": "python",
   "name": "python3"
  },
  "language_info": {
   "codemirror_mode": {
    "name": "ipython",
    "version": 3
   },
   "file_extension": ".py",
   "mimetype": "text/x-python",
   "name": "python",
   "nbconvert_exporter": "python",
   "pygments_lexer": "ipython3",
   "version": "3.11.6"
  }
 },
 "nbformat": 4,
 "nbformat_minor": 5
}
